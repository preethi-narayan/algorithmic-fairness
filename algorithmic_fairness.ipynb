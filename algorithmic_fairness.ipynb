{
 "cells": [
  {
   "cell_type": "markdown",
   "metadata": {
    "id": "uCxmXPdjC78N"
   },
   "source": [
    "# Setup"
   ]
  },
  {
   "cell_type": "markdown",
   "metadata": {
    "id": "8nSrlba1Hm3u"
   },
   "source": [
    "## Packages"
   ]
  },
  {
   "cell_type": "code",
   "execution_count": 15,
   "metadata": {
    "colab": {
     "base_uri": "https://localhost:8080/"
    },
    "id": "gtYGFyqSm2nk",
    "outputId": "2c1d741d-12a1-46b5-da9d-a79ca71b9490"
   },
   "outputs": [
    {
     "name": "stdout",
     "output_type": "stream",
     "text": [
      "fatal: destination path 'superquail' already exists and is not an empty directory.\n",
      "Requirement already satisfied: aif360==0.3.0 in /usr/local/lib/python3.7/dist-packages (0.3.0)\n",
      "Requirement already satisfied: numpy>=1.16 in /usr/local/lib/python3.7/dist-packages (from aif360==0.3.0) (1.21.5)\n",
      "Requirement already satisfied: scipy>=1.2.0 in /usr/local/lib/python3.7/dist-packages (from aif360==0.3.0) (1.4.1)\n",
      "Requirement already satisfied: matplotlib in /usr/local/lib/python3.7/dist-packages (from aif360==0.3.0) (3.2.2)\n",
      "Requirement already satisfied: scikit-learn>=0.21 in /usr/local/lib/python3.7/dist-packages (from aif360==0.3.0) (1.0.2)\n",
      "Requirement already satisfied: pandas>=0.24.0 in /usr/local/lib/python3.7/dist-packages (from aif360==0.3.0) (1.3.5)\n",
      "Requirement already satisfied: pytz>=2017.3 in /usr/local/lib/python3.7/dist-packages (from pandas>=0.24.0->aif360==0.3.0) (2018.9)\n",
      "Requirement already satisfied: python-dateutil>=2.7.3 in /usr/local/lib/python3.7/dist-packages (from pandas>=0.24.0->aif360==0.3.0) (2.8.2)\n",
      "Requirement already satisfied: six>=1.5 in /usr/local/lib/python3.7/dist-packages (from python-dateutil>=2.7.3->pandas>=0.24.0->aif360==0.3.0) (1.15.0)\n",
      "Requirement already satisfied: threadpoolctl>=2.0.0 in /usr/local/lib/python3.7/dist-packages (from scikit-learn>=0.21->aif360==0.3.0) (3.1.0)\n",
      "Requirement already satisfied: joblib>=0.11 in /usr/local/lib/python3.7/dist-packages (from scikit-learn>=0.21->aif360==0.3.0) (1.1.0)\n",
      "Requirement already satisfied: kiwisolver>=1.0.1 in /usr/local/lib/python3.7/dist-packages (from matplotlib->aif360==0.3.0) (1.3.2)\n",
      "Requirement already satisfied: pyparsing!=2.0.4,!=2.1.2,!=2.1.6,>=2.0.1 in /usr/local/lib/python3.7/dist-packages (from matplotlib->aif360==0.3.0) (3.0.7)\n",
      "Requirement already satisfied: cycler>=0.10 in /usr/local/lib/python3.7/dist-packages (from matplotlib->aif360==0.3.0) (0.11.0)\n",
      "Requirement already satisfied: BlackBoxAuditing in /usr/local/lib/python3.7/dist-packages (0.1.54)\n",
      "Requirement already satisfied: pandas in /usr/local/lib/python3.7/dist-packages (from BlackBoxAuditing) (1.3.5)\n",
      "Requirement already satisfied: numpy in /usr/local/lib/python3.7/dist-packages (from BlackBoxAuditing) (1.21.5)\n",
      "Requirement already satisfied: matplotlib in /usr/local/lib/python3.7/dist-packages (from BlackBoxAuditing) (3.2.2)\n",
      "Requirement already satisfied: networkx in /usr/local/lib/python3.7/dist-packages (from BlackBoxAuditing) (2.6.3)\n",
      "Requirement already satisfied: python-dateutil>=2.1 in /usr/local/lib/python3.7/dist-packages (from matplotlib->BlackBoxAuditing) (2.8.2)\n",
      "Requirement already satisfied: pyparsing!=2.0.4,!=2.1.2,!=2.1.6,>=2.0.1 in /usr/local/lib/python3.7/dist-packages (from matplotlib->BlackBoxAuditing) (3.0.7)\n",
      "Requirement already satisfied: kiwisolver>=1.0.1 in /usr/local/lib/python3.7/dist-packages (from matplotlib->BlackBoxAuditing) (1.3.2)\n",
      "Requirement already satisfied: cycler>=0.10 in /usr/local/lib/python3.7/dist-packages (from matplotlib->BlackBoxAuditing) (0.11.0)\n",
      "Requirement already satisfied: six>=1.5 in /usr/local/lib/python3.7/dist-packages (from python-dateutil>=2.1->matplotlib->BlackBoxAuditing) (1.15.0)\n",
      "Requirement already satisfied: pytz>=2017.3 in /usr/local/lib/python3.7/dist-packages (from pandas->BlackBoxAuditing) (2018.9)\n",
      "Requirement already satisfied: tensorflow==1.13.1 in /usr/local/lib/python3.7/dist-packages (1.13.1)\n",
      "Requirement already satisfied: keras-applications>=1.0.6 in /usr/local/lib/python3.7/dist-packages (from tensorflow==1.13.1) (1.0.8)\n",
      "Requirement already satisfied: astor>=0.6.0 in /usr/local/lib/python3.7/dist-packages (from tensorflow==1.13.1) (0.8.1)\n",
      "Requirement already satisfied: tensorboard<1.14.0,>=1.13.0 in /usr/local/lib/python3.7/dist-packages (from tensorflow==1.13.1) (1.13.1)\n",
      "Requirement already satisfied: grpcio>=1.8.6 in /usr/local/lib/python3.7/dist-packages (from tensorflow==1.13.1) (1.44.0)\n",
      "Requirement already satisfied: termcolor>=1.1.0 in /usr/local/lib/python3.7/dist-packages (from tensorflow==1.13.1) (1.1.0)\n",
      "Requirement already satisfied: wheel>=0.26 in /usr/local/lib/python3.7/dist-packages (from tensorflow==1.13.1) (0.37.1)\n",
      "Requirement already satisfied: gast>=0.2.0 in /usr/local/lib/python3.7/dist-packages (from tensorflow==1.13.1) (0.5.3)\n",
      "Requirement already satisfied: absl-py>=0.1.6 in /usr/local/lib/python3.7/dist-packages (from tensorflow==1.13.1) (1.0.0)\n",
      "Requirement already satisfied: keras-preprocessing>=1.0.5 in /usr/local/lib/python3.7/dist-packages (from tensorflow==1.13.1) (1.1.2)\n",
      "Requirement already satisfied: protobuf>=3.6.1 in /usr/local/lib/python3.7/dist-packages (from tensorflow==1.13.1) (3.17.3)\n",
      "Requirement already satisfied: tensorflow-estimator<1.14.0rc0,>=1.13.0 in /usr/local/lib/python3.7/dist-packages (from tensorflow==1.13.1) (1.13.0)\n",
      "Requirement already satisfied: numpy>=1.13.3 in /usr/local/lib/python3.7/dist-packages (from tensorflow==1.13.1) (1.21.5)\n",
      "Requirement already satisfied: six>=1.10.0 in /usr/local/lib/python3.7/dist-packages (from tensorflow==1.13.1) (1.15.0)\n",
      "Requirement already satisfied: h5py in /usr/local/lib/python3.7/dist-packages (from keras-applications>=1.0.6->tensorflow==1.13.1) (3.1.0)\n",
      "Requirement already satisfied: werkzeug>=0.11.15 in /usr/local/lib/python3.7/dist-packages (from tensorboard<1.14.0,>=1.13.0->tensorflow==1.13.1) (1.0.1)\n",
      "Requirement already satisfied: markdown>=2.6.8 in /usr/local/lib/python3.7/dist-packages (from tensorboard<1.14.0,>=1.13.0->tensorflow==1.13.1) (3.3.6)\n",
      "Requirement already satisfied: importlib-metadata>=4.4 in /usr/local/lib/python3.7/dist-packages (from markdown>=2.6.8->tensorboard<1.14.0,>=1.13.0->tensorflow==1.13.1) (4.11.1)\n",
      "Requirement already satisfied: zipp>=0.5 in /usr/local/lib/python3.7/dist-packages (from importlib-metadata>=4.4->markdown>=2.6.8->tensorboard<1.14.0,>=1.13.0->tensorflow==1.13.1) (3.7.0)\n",
      "Requirement already satisfied: typing-extensions>=3.6.4 in /usr/local/lib/python3.7/dist-packages (from importlib-metadata>=4.4->markdown>=2.6.8->tensorboard<1.14.0,>=1.13.0->tensorflow==1.13.1) (3.10.0.2)\n",
      "Requirement already satisfied: mock>=2.0.0 in /usr/local/lib/python3.7/dist-packages (from tensorflow-estimator<1.14.0rc0,>=1.13.0->tensorflow==1.13.1) (4.0.3)\n",
      "Requirement already satisfied: cached-property in /usr/local/lib/python3.7/dist-packages (from h5py->keras-applications>=1.0.6->tensorflow==1.13.1) (1.5.2)\n",
      "Requirement already satisfied: folktables in /usr/local/lib/python3.7/dist-packages (0.0.11)\n",
      "Requirement already satisfied: requests in /usr/local/lib/python3.7/dist-packages (from folktables) (2.23.0)\n",
      "Requirement already satisfied: numpy in /usr/local/lib/python3.7/dist-packages (from folktables) (1.21.5)\n",
      "Requirement already satisfied: sklearn in /usr/local/lib/python3.7/dist-packages (from folktables) (0.0)\n",
      "Requirement already satisfied: pandas in /usr/local/lib/python3.7/dist-packages (from folktables) (1.3.5)\n",
      "Requirement already satisfied: python-dateutil>=2.7.3 in /usr/local/lib/python3.7/dist-packages (from pandas->folktables) (2.8.2)\n",
      "Requirement already satisfied: pytz>=2017.3 in /usr/local/lib/python3.7/dist-packages (from pandas->folktables) (2018.9)\n",
      "Requirement already satisfied: six>=1.5 in /usr/local/lib/python3.7/dist-packages (from python-dateutil>=2.7.3->pandas->folktables) (1.15.0)\n",
      "Requirement already satisfied: chardet<4,>=3.0.2 in /usr/local/lib/python3.7/dist-packages (from requests->folktables) (3.0.4)\n",
      "Requirement already satisfied: certifi>=2017.4.17 in /usr/local/lib/python3.7/dist-packages (from requests->folktables) (2021.10.8)\n",
      "Requirement already satisfied: urllib3!=1.25.0,!=1.25.1,<1.26,>=1.21.1 in /usr/local/lib/python3.7/dist-packages (from requests->folktables) (1.24.3)\n",
      "Requirement already satisfied: idna<3,>=2.5 in /usr/local/lib/python3.7/dist-packages (from requests->folktables) (2.10)\n",
      "Requirement already satisfied: scikit-learn in /usr/local/lib/python3.7/dist-packages (from sklearn->folktables) (1.0.2)\n",
      "Requirement already satisfied: threadpoolctl>=2.0.0 in /usr/local/lib/python3.7/dist-packages (from scikit-learn->sklearn->folktables) (3.1.0)\n",
      "Requirement already satisfied: joblib>=0.11 in /usr/local/lib/python3.7/dist-packages (from scikit-learn->sklearn->folktables) (1.1.0)\n",
      "Requirement already satisfied: scipy>=1.1.0 in /usr/local/lib/python3.7/dist-packages (from scikit-learn->sklearn->folktables) (1.4.1)\n"
     ]
    }
   ],
   "source": [
    "!git clone https://github.com/lurosenb/superquail\n",
    "!pip install aif360==0.3.0 \n",
    "!pip install BlackBoxAuditing\n",
    "!pip install tensorflow==1.13.1\n",
    "!pip install folktables"
   ]
  },
  {
   "cell_type": "code",
   "execution_count": 16,
   "metadata": {
    "id": "F7Z09Uv_7DM5"
   },
   "outputs": [],
   "source": [
    "from IPython.core.interactiveshell import InteractiveShell\n",
    "InteractiveShell.ast_node_interactivity = \"all\""
   ]
  },
  {
   "cell_type": "code",
   "execution_count": 17,
   "metadata": {
    "id": "-BAY1cNGuxfk"
   },
   "outputs": [],
   "source": [
    "import random\n",
    "random.seed(6)\n",
    "\n",
    "import sys\n",
    "import warnings\n",
    "\n",
    "import numpy as np\n",
    "import pandas as pd\n",
    "import tensorflow as tf\n",
    "import json\n",
    "import time \n",
    "from tqdm import tqdm\n",
    "\n",
    "import matplotlib.pyplot as plt \n",
    "%matplotlib inline\n",
    "import seaborn as sns\n",
    "\n",
    "from folktables import ACSDataSource, ACSEmployment, ACSIncome, ACSPublicCoverage, ACSTravelTime\n",
    "from superquail.data.acs_helper import ACSData\n",
    "\n",
    "from sklearn.linear_model import LogisticRegression\n",
    "from sklearn.metrics import accuracy_score, roc_auc_score\n",
    "from sklearn.ensemble import RandomForestClassifier\n",
    "from sklearn.model_selection import RandomizedSearchCV\n",
    "from sklearn.preprocessing import MinMaxScaler\n",
    "\n",
    "from aif360.datasets import BinaryLabelDataset, StandardDataset\n",
    "from aif360.algorithms.preprocessing import DisparateImpactRemover\n",
    "from aif360.algorithms.inprocessing import PrejudiceRemover\n",
    "from aif360.algorithms.postprocessing import CalibratedEqOddsPostprocessing, RejectOptionClassification\n",
    "from aif360.metrics import BinaryLabelDatasetMetric, ClassificationMetric\n",
    "from aif360.metrics import BinaryLabelDatasetMetric\n",
    "\n",
    "import BlackBoxAuditing\n",
    "%matplotlib notebook"
   ]
  },
  {
   "cell_type": "markdown",
   "metadata": {
    "id": "FW83Vu3KvTQB"
   },
   "source": [
    "## Load data"
   ]
  },
  {
   "cell_type": "markdown",
   "metadata": {
    "id": "UH30OASO5pf3"
   },
   "source": [
    "We have included code to read in the folktables dataset. The Folktables dataset is taken from US Census Data and is built to solve a few simple prediction tasks. The sample we pull is data from 2018 in California. The column names are described in the table below. Note that certain categorical variables have been mapped to integer values, which we will keep as is for the following analyses.\n",
    "\n",
    "For more information on the this dataset, please see the following paper:\n",
    "https://eaamo2021.eaamo.org/accepted/acceptednonarchival/EAMO21_paper_16.pdf"
   ]
  },
  {
   "cell_type": "markdown",
   "metadata": {
    "id": "ErJSui-veHGd"
   },
   "source": [
    "| Column Name | Feature | Description/Notes |\n",
    "| --- | ----------- | --- |\n",
    "| PINCP | Total person’s income | (Target) 1 if >= $50k, 0 if less |\n",
    "| SEX | Sex | (Sensitive Attribute) Male=1, Female=2 |\n",
    "| RAC1P | Race | Dropped from this analysis to focus on one sensitive attribute |\n",
    "| AGEP | Age | Ranges from 0-99 |\n",
    "| COW | Class of Worker | Ranges 1-9, see paper for description |\n",
    "| SCHL | Education Level | Ranges 1-24, see paper for description |\n",
    "| MAR | Marital Status | Ranges 1-5, see paper for description |\n",
    "| OCCP | Occupation | Codes taken from Public Use Microdata Sample (PUMS) from the US Census, see paper |\n",
    "| POBP | Place of Birth | Codes taken from Public Use Microdata Sample (PUMS) from the US Census, see paper |\n",
    "| RELP | Relationship | Relationship of individual to person who responded to the Census taker. Ranges 0-17, see paper for description |\n",
    "| WKHP | Hours worked per week | Ranges from 0-99, averaged over previous year |"
   ]
  },
  {
   "cell_type": "code",
   "execution_count": 18,
   "metadata": {
    "colab": {
     "base_uri": "https://localhost:8080/",
     "height": 224
    },
    "id": "JKV2cQ_Q3IqF",
    "outputId": "b501a2b9-e54c-4b8e-f172-a98e47be8050"
   },
   "outputs": [
    {
     "name": "stdout",
     "output_type": "stream",
     "text": [
      "(30000, 10)\n"
     ]
    },
    {
     "data": {
      "text/html": [
       "\n",
       "  <div id=\"df-8288c180-719e-4b13-8804-1a64f3a831e2\">\n",
       "    <div class=\"colab-df-container\">\n",
       "      <div>\n",
       "<style scoped>\n",
       "    .dataframe tbody tr th:only-of-type {\n",
       "        vertical-align: middle;\n",
       "    }\n",
       "\n",
       "    .dataframe tbody tr th {\n",
       "        vertical-align: top;\n",
       "    }\n",
       "\n",
       "    .dataframe thead th {\n",
       "        text-align: right;\n",
       "    }\n",
       "</style>\n",
       "<table border=\"1\" class=\"dataframe\">\n",
       "  <thead>\n",
       "    <tr style=\"text-align: right;\">\n",
       "      <th></th>\n",
       "      <th>AGEP</th>\n",
       "      <th>COW</th>\n",
       "      <th>SCHL</th>\n",
       "      <th>MAR</th>\n",
       "      <th>OCCP</th>\n",
       "      <th>POBP</th>\n",
       "      <th>RELP</th>\n",
       "      <th>WKHP</th>\n",
       "      <th>SEX</th>\n",
       "      <th>PINCP</th>\n",
       "    </tr>\n",
       "  </thead>\n",
       "  <tbody>\n",
       "    <tr>\n",
       "      <th>0</th>\n",
       "      <td>44.0</td>\n",
       "      <td>1.0</td>\n",
       "      <td>1.0</td>\n",
       "      <td>1.0</td>\n",
       "      <td>4220.0</td>\n",
       "      <td>6.0</td>\n",
       "      <td>10.0</td>\n",
       "      <td>40.0</td>\n",
       "      <td>1.0</td>\n",
       "      <td>0.0</td>\n",
       "    </tr>\n",
       "    <tr>\n",
       "      <th>1</th>\n",
       "      <td>66.0</td>\n",
       "      <td>2.0</td>\n",
       "      <td>20.0</td>\n",
       "      <td>2.0</td>\n",
       "      <td>4720.0</td>\n",
       "      <td>42.0</td>\n",
       "      <td>0.0</td>\n",
       "      <td>32.0</td>\n",
       "      <td>2.0</td>\n",
       "      <td>0.0</td>\n",
       "    </tr>\n",
       "    <tr>\n",
       "      <th>2</th>\n",
       "      <td>72.0</td>\n",
       "      <td>6.0</td>\n",
       "      <td>18.0</td>\n",
       "      <td>1.0</td>\n",
       "      <td>10.0</td>\n",
       "      <td>6.0</td>\n",
       "      <td>1.0</td>\n",
       "      <td>8.0</td>\n",
       "      <td>2.0</td>\n",
       "      <td>1.0</td>\n",
       "    </tr>\n",
       "    <tr>\n",
       "      <th>3</th>\n",
       "      <td>53.0</td>\n",
       "      <td>1.0</td>\n",
       "      <td>21.0</td>\n",
       "      <td>1.0</td>\n",
       "      <td>1460.0</td>\n",
       "      <td>457.0</td>\n",
       "      <td>0.0</td>\n",
       "      <td>40.0</td>\n",
       "      <td>1.0</td>\n",
       "      <td>1.0</td>\n",
       "    </tr>\n",
       "    <tr>\n",
       "      <th>4</th>\n",
       "      <td>55.0</td>\n",
       "      <td>1.0</td>\n",
       "      <td>16.0</td>\n",
       "      <td>1.0</td>\n",
       "      <td>220.0</td>\n",
       "      <td>6.0</td>\n",
       "      <td>1.0</td>\n",
       "      <td>40.0</td>\n",
       "      <td>1.0</td>\n",
       "      <td>0.0</td>\n",
       "    </tr>\n",
       "  </tbody>\n",
       "</table>\n",
       "</div>\n",
       "      <button class=\"colab-df-convert\" onclick=\"convertToInteractive('df-8288c180-719e-4b13-8804-1a64f3a831e2')\"\n",
       "              title=\"Convert this dataframe to an interactive table.\"\n",
       "              style=\"display:none;\">\n",
       "        \n",
       "  <svg xmlns=\"http://www.w3.org/2000/svg\" height=\"24px\"viewBox=\"0 0 24 24\"\n",
       "       width=\"24px\">\n",
       "    <path d=\"M0 0h24v24H0V0z\" fill=\"none\"/>\n",
       "    <path d=\"M18.56 5.44l.94 2.06.94-2.06 2.06-.94-2.06-.94-.94-2.06-.94 2.06-2.06.94zm-11 1L8.5 8.5l.94-2.06 2.06-.94-2.06-.94L8.5 2.5l-.94 2.06-2.06.94zm10 10l.94 2.06.94-2.06 2.06-.94-2.06-.94-.94-2.06-.94 2.06-2.06.94z\"/><path d=\"M17.41 7.96l-1.37-1.37c-.4-.4-.92-.59-1.43-.59-.52 0-1.04.2-1.43.59L10.3 9.45l-7.72 7.72c-.78.78-.78 2.05 0 2.83L4 21.41c.39.39.9.59 1.41.59.51 0 1.02-.2 1.41-.59l7.78-7.78 2.81-2.81c.8-.78.8-2.07 0-2.86zM5.41 20L4 18.59l7.72-7.72 1.47 1.35L5.41 20z\"/>\n",
       "  </svg>\n",
       "      </button>\n",
       "      \n",
       "  <style>\n",
       "    .colab-df-container {\n",
       "      display:flex;\n",
       "      flex-wrap:wrap;\n",
       "      gap: 12px;\n",
       "    }\n",
       "\n",
       "    .colab-df-convert {\n",
       "      background-color: #E8F0FE;\n",
       "      border: none;\n",
       "      border-radius: 50%;\n",
       "      cursor: pointer;\n",
       "      display: none;\n",
       "      fill: #1967D2;\n",
       "      height: 32px;\n",
       "      padding: 0 0 0 0;\n",
       "      width: 32px;\n",
       "    }\n",
       "\n",
       "    .colab-df-convert:hover {\n",
       "      background-color: #E2EBFA;\n",
       "      box-shadow: 0px 1px 2px rgba(60, 64, 67, 0.3), 0px 1px 3px 1px rgba(60, 64, 67, 0.15);\n",
       "      fill: #174EA6;\n",
       "    }\n",
       "\n",
       "    [theme=dark] .colab-df-convert {\n",
       "      background-color: #3B4455;\n",
       "      fill: #D2E3FC;\n",
       "    }\n",
       "\n",
       "    [theme=dark] .colab-df-convert:hover {\n",
       "      background-color: #434B5C;\n",
       "      box-shadow: 0px 1px 3px 1px rgba(0, 0, 0, 0.15);\n",
       "      filter: drop-shadow(0px 1px 2px rgba(0, 0, 0, 0.3));\n",
       "      fill: #FFFFFF;\n",
       "    }\n",
       "  </style>\n",
       "\n",
       "      <script>\n",
       "        const buttonEl =\n",
       "          document.querySelector('#df-8288c180-719e-4b13-8804-1a64f3a831e2 button.colab-df-convert');\n",
       "        buttonEl.style.display =\n",
       "          google.colab.kernel.accessAllowed ? 'block' : 'none';\n",
       "\n",
       "        async function convertToInteractive(key) {\n",
       "          const element = document.querySelector('#df-8288c180-719e-4b13-8804-1a64f3a831e2');\n",
       "          const dataTable =\n",
       "            await google.colab.kernel.invokeFunction('convertToInteractive',\n",
       "                                                     [key], {});\n",
       "          if (!dataTable) return;\n",
       "\n",
       "          const docLinkHtml = 'Like what you see? Visit the ' +\n",
       "            '<a target=\"_blank\" href=https://colab.research.google.com/notebooks/data_table.ipynb>data table notebook</a>'\n",
       "            + ' to learn more about interactive tables.';\n",
       "          element.innerHTML = '';\n",
       "          dataTable['output_type'] = 'display_data';\n",
       "          await google.colab.output.renderOutput(dataTable, element);\n",
       "          const docLink = document.createElement('div');\n",
       "          docLink.innerHTML = docLinkHtml;\n",
       "          element.appendChild(docLink);\n",
       "        }\n",
       "      </script>\n",
       "    </div>\n",
       "  </div>\n",
       "  "
      ],
      "text/plain": [
       "   AGEP  COW  SCHL  MAR    OCCP   POBP  RELP  WKHP  SEX  PINCP\n",
       "0  44.0  1.0   1.0  1.0  4220.0    6.0  10.0  40.0  1.0    0.0\n",
       "1  66.0  2.0  20.0  2.0  4720.0   42.0   0.0  32.0  2.0    0.0\n",
       "2  72.0  6.0  18.0  1.0    10.0    6.0   1.0   8.0  2.0    1.0\n",
       "3  53.0  1.0  21.0  1.0  1460.0  457.0   0.0  40.0  1.0    1.0\n",
       "4  55.0  1.0  16.0  1.0   220.0    6.0   1.0  40.0  1.0    0.0"
      ]
     },
     "execution_count": 18,
     "metadata": {},
     "output_type": "execute_result"
    }
   ],
   "source": [
    "np.random.seed(13) # do not change the seed\n",
    "\n",
    "# read in the folktables dataset \n",
    "full_df, features_df, target_df, groups_df = ACSData().return_acs_data_scenario(scenario=\"ACSIncome\", subsample=30000)\n",
    "full_df = full_df.drop(columns='RAC1P') # drop race -- another protected attribute from our dataset\n",
    "\n",
    "print(full_df.shape)\n",
    "full_df.head()"
   ]
  },
  {
   "cell_type": "markdown",
   "metadata": {
    "id": "HBFTP1NJJQHy"
   },
   "source": [
    "## Set protected attribute and target"
   ]
  },
  {
   "cell_type": "code",
   "execution_count": 19,
   "metadata": {
    "id": "z9rLvp4tJHy2"
   },
   "outputs": [],
   "source": [
    "protected_attr = 'SEX' # set sex as the protected attribute\n",
    "target = 'PINCP' # personal income as the target, note that [1 = >50k]"
   ]
  },
  {
   "cell_type": "code",
   "execution_count": 20,
   "metadata": {
    "id": "cEZljEsG4G1j"
   },
   "outputs": [],
   "source": [
    "# convert this dataframe into an aif360 dataset\n",
    "original_data = BinaryLabelDataset(\n",
    "    favorable_label=1,\n",
    "    unfavorable_label=0,\n",
    "    df=full_df,\n",
    "    label_names=[target],\n",
    "    protected_attribute_names=[protected_attr])\n",
    "privileged_groups = [{protected_attr: 1}] \n",
    "unprivileged_groups = [{protected_attr: 2}]"
   ]
  },
  {
   "cell_type": "markdown",
   "metadata": {
    "id": "54wA6QWtHrzJ"
   },
   "source": [
    "## Split data"
   ]
  },
  {
   "cell_type": "code",
   "execution_count": 21,
   "metadata": {
    "id": "9NjSSl8iEmne"
   },
   "outputs": [],
   "source": [
    "seed = 50\n",
    "train_data, test_data = original_data.split([0.8], shuffle=True, seed=seed)"
   ]
  },
  {
   "cell_type": "markdown",
   "metadata": {
    "id": "4tVEqq34H1ZH"
   },
   "source": [
    "## Scale features in the data"
   ]
  },
  {
   "cell_type": "code",
   "execution_count": 22,
   "metadata": {
    "colab": {
     "base_uri": "https://localhost:8080/"
    },
    "id": "Aa2GzY3HE-l_",
    "outputId": "66a5b660-19f6-43b8-b432-eef804551909"
   },
   "outputs": [
    {
     "name": "stdout",
     "output_type": "stream",
     "text": [
      "Training set:  (24000, 10)\n",
      "Test set:  (6000, 10)\n"
     ]
    }
   ],
   "source": [
    "scaler = MinMaxScaler()\n",
    "\n",
    "train_data.features = scaler.fit_transform(train_data.features)\n",
    "test_data.features = scaler.transform(test_data.features)\n",
    "\n",
    "# convert to dataframes\n",
    "train_df, _ = train_data.convert_to_dataframe()\n",
    "test_df, _ = test_data.convert_to_dataframe()\n",
    "print(\"Training set: \", train_df.shape)\n",
    "print(\"Test set: \", test_df.shape)\n",
    "\n",
    "# extract x (features) and y (target)\n",
    "train_x = train_df.drop([target, protected_attr], axis=1)\n",
    "train_y = train_df[target]\n",
    "test_x = test_df.drop([target, protected_attr], axis=1)\n",
    "test_y = test_df[target]"
   ]
  },
  {
   "cell_type": "markdown",
   "metadata": {
    "id": "J_9U8nMU3pg0"
   },
   "source": [
    "## Train a random forest model (baseline)"
   ]
  },
  {
   "cell_type": "code",
   "execution_count": 23,
   "metadata": {
    "colab": {
     "base_uri": "https://localhost:8080/"
    },
    "id": "Bo149tbl3n_N",
    "outputId": "e22fe304-0f90-4925-9407-5ea6656121c4"
   },
   "outputs": [
    {
     "data": {
      "text/plain": [
       "RandomForestClassifier(max_depth=10, n_estimators=20)"
      ]
     },
     "execution_count": 23,
     "metadata": {},
     "output_type": "execute_result"
    }
   ],
   "source": [
    "# use these hyperparameters in your call to RandomForestClassifier\n",
    "n_estimators = 20\n",
    "max_depth = 10\n",
    "\n",
    "# set up the random forest model, using the hyperparameters\n",
    "clf = RandomForestClassifier(max_depth=max_depth, n_estimators = n_estimators)\n",
    "\n",
    "# fit the model using the training data (train_x, train_y)\n",
    "clf.fit(train_x, train_y)"
   ]
  },
  {
   "cell_type": "markdown",
   "metadata": {
    "id": "Ci-ClRL14Efm"
   },
   "source": [
    "## Calculate metrics"
   ]
  },
  {
   "cell_type": "code",
   "execution_count": 24,
   "metadata": {
    "id": "KbbYXuCw9D7a"
   },
   "outputs": [],
   "source": [
    "# the below function has been provided for you. You can use this function to\n",
    "# convert your data to a StandardDataset format for use in AIF360\n",
    "def transform_to_aif(df, target=target, protected_attr=protected_attr):\n",
    "  '''convert a pandas.DataFrame to a StandardDataset used in AIF360'''\n",
    "\n",
    "  sd = StandardDataset(\n",
    "      df,\n",
    "      label_name = target,\n",
    "      favorable_classes = [1],\n",
    "      protected_attribute_names = [protected_attr],\n",
    "      privileged_classes = [[1]]\n",
    "  )\n",
    "\n",
    "  return sd\n",
    "\n",
    "\n"
   ]
  },
  {
   "cell_type": "code",
   "execution_count": 36,
   "metadata": {
    "id": "NZASQVuR6R0t"
   },
   "outputs": [],
   "source": [
    "\n",
    "\n",
    "# convert predictions data to AIF StandardDataset\n",
    "original_data = BinaryLabelDataset(\n",
    "    favorable_label=1,\n",
    "    unfavorable_label=0,\n",
    "    df=full_df,\n",
    "    label_names=[target],\n",
    "    protected_attribute_names=[protected_attr])\n",
    "\n",
    "# also create AIF StandardDataset versions of training and test data\n",
    "\n",
    "train_standard = transform_to_aif(train_df, target=target, protected_attr=protected_attr)\n",
    "test_standard = transform_to_aif(test_df, target=target, protected_attr=protected_attr)"
   ]
  },
  {
   "cell_type": "code",
   "execution_count": 37,
   "metadata": {
    "colab": {
     "base_uri": "https://localhost:8080/"
    },
    "id": "1pUBPJoXBS7O",
    "outputId": "75469241-244f-4228-cf34-cd6aba99ff2f"
   },
   "outputs": [
    {
     "name": "stdout",
     "output_type": "stream",
     "text": [
      "Mean difference = -0.061586\n",
      "Disparate Impact = 0.857283\n",
      "\n",
      "Error rate difference (unprivileged error rate - privileged error rate)= -0.014671\n",
      "\n",
      "False negative rate for privileged groups = 0.215599\n",
      "False negative rate for unprivileged groups = 0.189612\n",
      "False negative rate ratio = 0.879463\n",
      "\n",
      "False positive rate for privileged groups = 0.126050\n",
      "False positive rate for unprivileged groups = 0.133216\n",
      "False positive rate ratio = 1.056846\n"
     ]
    }
   ],
   "source": [
    "# calculate metrics\n",
    "y_hat = clf.predict(test_x)\n",
    "\n",
    "#convert predictions data to AIF StandardDataset\n",
    "trained_preds = train_df.copy()\n",
    "trained_preds['PINCP'] = clf.predict(train_x)\n",
    "#recode predictions to match format: 1 = good credit, 2 = bad income\n",
    "trained_preds['PINCP'] = trained_preds.PINCP.replace({0, 2})\n",
    "\n",
    "#create aif StandardDataset for training and test datasets\n",
    "orig_aif360 = StandardDataset(train_df,\n",
    "                              label_name='PINCP',\n",
    "                              protected_attribute_names=['SEX'], \n",
    "                              privileged_classes=[[1]], favorable_classes=[1])\n",
    "preds_aif360 = StandardDataset(trained_preds,\n",
    "                               label_name='PINCP',\n",
    "                               protected_attribute_names=['SEX'], \n",
    "                               privileged_classes=[[1]], favorable_classes=[1])\n",
    "\n",
    "\n",
    "\n",
    "#metrics\n",
    "pred_metrics = BinaryLabelDatasetMetric(preds_aif360,\n",
    "                                        unprivileged_groups=unprivileged_groups,\n",
    "                                        privileged_groups=privileged_groups)\n",
    "print(\"Mean difference = %f\" % pred_metrics.mean_difference())\n",
    "print(\"Disparate Impact = %f\" % pred_metrics.disparate_impact())\n",
    "\n",
    "\n",
    "orig_vs_preds_metrics = ClassificationMetric(orig_aif360, preds_aif360,\n",
    "                                             unprivileged_groups=unprivileged_groups,\n",
    "                                             privileged_groups=privileged_groups)\n",
    "\n",
    "print(\"\\nError rate difference (unprivileged error rate - privileged error rate)= %f\" % orig_vs_preds_metrics.error_rate_difference())\n",
    "\n",
    "\n",
    "print(\"\\nFalse negative rate for privileged groups = %f\" % orig_vs_preds_metrics.false_negative_rate(privileged=True))\n",
    "print(\"False negative rate for unprivileged groups = %f\" % orig_vs_preds_metrics.false_negative_rate(privileged=False))\n",
    "print(\"False negative rate ratio = %f\" % orig_vs_preds_metrics.false_negative_rate_ratio())\n",
    "\n",
    "print(\"\\nFalse positive rate for privileged groups = %f\" % orig_vs_preds_metrics.false_positive_rate(privileged=True))\n",
    "print(\"False positive rate for unprivileged groups = %f\" % orig_vs_preds_metrics.false_positive_rate(privileged=False))\n",
    "print(\"False positive rate ratio = %f\" % orig_vs_preds_metrics.false_positive_rate_ratio())"
   ]
  },
  {
   "cell_type": "code",
   "execution_count": 40,
   "metadata": {
    "colab": {
     "base_uri": "https://localhost:8080/"
    },
    "id": "R5esiAam7NFM",
    "outputId": "5afc8672-e69c-4743-f02a-f49cc7cdf437"
   },
   "outputs": [
    {
     "name": "stdout",
     "output_type": "stream",
     "text": [
      "accuracy: <bound method ClassificationMetric.accuracy of <aif360.metrics.classification_metric.ClassificationMetric object at 0x7f7008ccb710>>\n",
      "Privileged accuracy: 0.8323982615566969\n",
      "Unprivileged Accuracy:  0.8470691934773028\n",
      "Disparate Impact:  0.8572834544789694\n",
      "False Positive Rate Difference:  0.07765018368165852\n"
     ]
    }
   ],
   "source": [
    "#calculate all metrics\n",
    "accuracy = orig_vs_preds_metrics.accuracy\n",
    "auc = roc_auc_score(test_y, y_hat)\n",
    "priv_accuracy = orig_vs_preds_metrics.accuracy(privileged=True)\n",
    "unpriv_accuracy = orig_vs_preds_metrics.accuracy(privileged = False)\n",
    "disparate_impact = pred_metrics.disparate_impact()\n",
    "fn_priv = orig_vs_preds_metrics.false_negative_rate(privileged=True)\n",
    "fn_unpriv = orig_vs_preds_metrics.false_negative_rate(privileged=False)\n",
    "fn_ratio = orig_vs_preds_metrics.false_negative_rate_ratio()\n",
    "fp_priv = orig_vs_preds_metrics.false_positive_rate(privileged=True)\n",
    "fp_unpriv = orig_vs_preds_metrics.false_positive_rate(privileged=False)\n",
    "fp_ratio = orig_vs_preds_metrics.false_positive_rate_ratio()\n",
    "fp_rate_difference = orig_vs_preds_metrics.false_discovery_rate_difference()\n",
    "\n",
    "print(\"accuracy:\", accuracy)\n",
    "# print(\"AUC:\", auc)\n",
    "print(\"Privileged accuracy:\", priv_accuracy)\n",
    "print(\"Unprivileged Accuracy: \", unpriv_accuracy)\n",
    "print(\"Disparate Impact: \", disparate_impact)\n",
    "print(\"False Positive Rate Difference: \", fp_rate_difference)\n"
   ]
  },
  {
   "cell_type": "markdown",
   "metadata": {
    "id": "FC7yhPhEH_Q7"
   },
   "source": [
    "## Transform the original data using Disparate Impact Remover at five repair levels and calculate metrics"
   ]
  },
  {
   "cell_type": "code",
   "execution_count": 42,
   "metadata": {
    "id": "8NToBvrQiWIz"
   },
   "outputs": [],
   "source": [
    "# the below function has been provided for you. You can use this function to\n",
    "# plot the repair_level (on the x-axis) against a given metric,\n",
    "# e.g. accuracy, on the y-axis\n",
    "def plot_metric_repair(repair_levels, metric_values, metric_name):\n",
    "  '''Creates a line plot showing how the metric changed for different values of repair level'''\n",
    "\n",
    "  # Plot the metrics\n",
    "  plt.plot(repair_levels, metric_values, color='#0384fc', linewidth=3, label=metric_name)\n",
    "\n",
    "\n",
    "  # Create labels, etc. \n",
    "  plt.xlabel('Repair level')\n",
    "  plt.ylabel(metric_name)\n",
    "  plt.legend()\n",
    "  plt.show()"
   ]
  },
  {
   "cell_type": "code",
   "execution_count": 43,
   "metadata": {
    "id": "ReACJAawwnA2"
   },
   "outputs": [],
   "source": [
    "#prior to creating loops, create function of the metrics cell to save time when running cell\n",
    "def metrics(model, x_test, y_test):\n",
    "    \n",
    "    # Calculate predicted values\n",
    "    y_pred = model.predict(x_test)\n",
    "\n",
    "    test_df_pred = test_df.copy()\n",
    "    test_df_pred['PINCP'] = y_pred\n",
    "    \n",
    "    orig_aif360 = StandardDataset(test_df, label_name='PINCP',favorable_classes=[1],\n",
    "                                       protected_attribute_names=['SEX'],privileged_classes=[[1]])\n",
    "\n",
    "    pred_aif360 = StandardDataset(test_df_pred, label_name='PINCP',favorable_classes=[1],\n",
    "                                       protected_attribute_names=['SEX'],privileged_classes=[[1]])\n",
    "    \n",
    "    orig_vs_preds_metrics = ClassificationMetric(orig_aif360, pred_aif360,\n",
    "                                                  unprivileged_groups=unprivileged_groups,\n",
    "                                                  privileged_groups=privileged_groups)\n",
    "    \n",
    "    metric_pred = BinaryLabelDatasetMetric(pred_aif360,\n",
    "                                            unprivileged_groups=unprivileged_groups,\n",
    "                                            privileged_groups=privileged_groups)\n",
    "  \n",
    "\n",
    "    #calculate accuracy \n",
    "    accuracy = orig_vs_preds_metrics.accuracy()\n",
    "\n",
    "    # Calculate AUC\n",
    "    auc = roc_auc_score(y_test, y_pred)\n",
    "\n",
    "    #Accuracy for priviledged groups \n",
    "    priv_accuracy = orig_vs_preds_metrics.accuracy(privileged=True)\n",
    "\n",
    "    #Accuracy for unprivileged groups\n",
    "    unpriv_accuracy = orig_vs_preds_metrics.accuracy(privileged=False)\n",
    "   \n",
    "    #Disparate impact\n",
    "    disparate_impact = metric_pred.disparate_impact()\n",
    "\n",
    "    #false positive rate difference\n",
    "    fp_rate_difference = orig_vs_preds_metrics.false_positive_rate_difference()\n",
    "\n",
    "    return accuracy, auc, priv_accuracy, unpriv_accuracy, disparate_impact, fp_rate_difference\n"
   ]
  },
  {
   "cell_type": "code",
   "execution_count": 52,
   "metadata": {
    "colab": {
     "base_uri": "https://localhost:8080/",
     "height": 228
    },
    "id": "ffAzfF7tH-Y8",
    "outputId": "47160bd3-d45d-4af4-b61a-fde290fee566"
   },
   "outputs": [
    {
     "name": "stdout",
     "output_type": "stream",
     "text": [
      "1\n"
     ]
    },
    {
     "data": {
      "text/plain": [
       "RandomForestClassifier(max_depth=10, n_estimators=20)"
      ]
     },
     "execution_count": 52,
     "metadata": {},
     "output_type": "execute_result"
    },
    {
     "data": {
      "text/plain": [
       "RandomForestClassifier(max_depth=10, n_estimators=20)"
      ]
     },
     "execution_count": 52,
     "metadata": {},
     "output_type": "execute_result"
    },
    {
     "data": {
      "text/plain": [
       "RandomForestClassifier(max_depth=10, n_estimators=20)"
      ]
     },
     "execution_count": 52,
     "metadata": {},
     "output_type": "execute_result"
    },
    {
     "data": {
      "text/plain": [
       "RandomForestClassifier(max_depth=10, n_estimators=20)"
      ]
     },
     "execution_count": 52,
     "metadata": {},
     "output_type": "execute_result"
    },
    {
     "data": {
      "text/plain": [
       "RandomForestClassifier(max_depth=10, n_estimators=20)"
      ]
     },
     "execution_count": 52,
     "metadata": {},
     "output_type": "execute_result"
    },
    {
     "name": "stdout",
     "output_type": "stream",
     "text": [
      "2\n"
     ]
    },
    {
     "data": {
      "text/plain": [
       "RandomForestClassifier(max_depth=10, n_estimators=20)"
      ]
     },
     "execution_count": 52,
     "metadata": {},
     "output_type": "execute_result"
    },
    {
     "data": {
      "text/plain": [
       "RandomForestClassifier(max_depth=10, n_estimators=20)"
      ]
     },
     "execution_count": 52,
     "metadata": {},
     "output_type": "execute_result"
    },
    {
     "data": {
      "text/plain": [
       "RandomForestClassifier(max_depth=10, n_estimators=20)"
      ]
     },
     "execution_count": 52,
     "metadata": {},
     "output_type": "execute_result"
    },
    {
     "data": {
      "text/plain": [
       "RandomForestClassifier(max_depth=10, n_estimators=20)"
      ]
     },
     "execution_count": 52,
     "metadata": {},
     "output_type": "execute_result"
    },
    {
     "data": {
      "text/plain": [
       "RandomForestClassifier(max_depth=10, n_estimators=20)"
      ]
     },
     "execution_count": 52,
     "metadata": {},
     "output_type": "execute_result"
    },
    {
     "name": "stdout",
     "output_type": "stream",
     "text": [
      "3\n"
     ]
    },
    {
     "data": {
      "text/plain": [
       "RandomForestClassifier(max_depth=10, n_estimators=20)"
      ]
     },
     "execution_count": 52,
     "metadata": {},
     "output_type": "execute_result"
    },
    {
     "data": {
      "text/plain": [
       "RandomForestClassifier(max_depth=10, n_estimators=20)"
      ]
     },
     "execution_count": 52,
     "metadata": {},
     "output_type": "execute_result"
    },
    {
     "data": {
      "text/plain": [
       "RandomForestClassifier(max_depth=10, n_estimators=20)"
      ]
     },
     "execution_count": 52,
     "metadata": {},
     "output_type": "execute_result"
    },
    {
     "data": {
      "text/plain": [
       "RandomForestClassifier(max_depth=10, n_estimators=20)"
      ]
     },
     "execution_count": 52,
     "metadata": {},
     "output_type": "execute_result"
    },
    {
     "data": {
      "text/plain": [
       "RandomForestClassifier(max_depth=10, n_estimators=20)"
      ]
     },
     "execution_count": 52,
     "metadata": {},
     "output_type": "execute_result"
    },
    {
     "name": "stdout",
     "output_type": "stream",
     "text": [
      "4\n"
     ]
    },
    {
     "data": {
      "text/plain": [
       "RandomForestClassifier(max_depth=10, n_estimators=20)"
      ]
     },
     "execution_count": 52,
     "metadata": {},
     "output_type": "execute_result"
    },
    {
     "data": {
      "text/plain": [
       "RandomForestClassifier(max_depth=10, n_estimators=20)"
      ]
     },
     "execution_count": 52,
     "metadata": {},
     "output_type": "execute_result"
    },
    {
     "data": {
      "text/plain": [
       "RandomForestClassifier(max_depth=10, n_estimators=20)"
      ]
     },
     "execution_count": 52,
     "metadata": {},
     "output_type": "execute_result"
    },
    {
     "data": {
      "text/plain": [
       "RandomForestClassifier(max_depth=10, n_estimators=20)"
      ]
     },
     "execution_count": 52,
     "metadata": {},
     "output_type": "execute_result"
    },
    {
     "data": {
      "text/plain": [
       "RandomForestClassifier(max_depth=10, n_estimators=20)"
      ]
     },
     "execution_count": 52,
     "metadata": {},
     "output_type": "execute_result"
    },
    {
     "name": "stdout",
     "output_type": "stream",
     "text": [
      "5\n"
     ]
    },
    {
     "data": {
      "text/plain": [
       "RandomForestClassifier(max_depth=10, n_estimators=20)"
      ]
     },
     "execution_count": 52,
     "metadata": {},
     "output_type": "execute_result"
    },
    {
     "data": {
      "text/plain": [
       "RandomForestClassifier(max_depth=10, n_estimators=20)"
      ]
     },
     "execution_count": 52,
     "metadata": {},
     "output_type": "execute_result"
    },
    {
     "data": {
      "text/plain": [
       "RandomForestClassifier(max_depth=10, n_estimators=20)"
      ]
     },
     "execution_count": 52,
     "metadata": {},
     "output_type": "execute_result"
    },
    {
     "data": {
      "text/plain": [
       "RandomForestClassifier(max_depth=10, n_estimators=20)"
      ]
     },
     "execution_count": 52,
     "metadata": {},
     "output_type": "execute_result"
    },
    {
     "data": {
      "text/plain": [
       "RandomForestClassifier(max_depth=10, n_estimators=20)"
      ]
     },
     "execution_count": 52,
     "metadata": {},
     "output_type": "execute_result"
    },
    {
     "name": "stdout",
     "output_type": "stream",
     "text": [
      "6\n"
     ]
    },
    {
     "data": {
      "text/plain": [
       "RandomForestClassifier(max_depth=10, n_estimators=20)"
      ]
     },
     "execution_count": 52,
     "metadata": {},
     "output_type": "execute_result"
    },
    {
     "data": {
      "text/plain": [
       "RandomForestClassifier(max_depth=10, n_estimators=20)"
      ]
     },
     "execution_count": 52,
     "metadata": {},
     "output_type": "execute_result"
    },
    {
     "data": {
      "text/plain": [
       "RandomForestClassifier(max_depth=10, n_estimators=20)"
      ]
     },
     "execution_count": 52,
     "metadata": {},
     "output_type": "execute_result"
    },
    {
     "data": {
      "text/plain": [
       "RandomForestClassifier(max_depth=10, n_estimators=20)"
      ]
     },
     "execution_count": 52,
     "metadata": {},
     "output_type": "execute_result"
    },
    {
     "data": {
      "text/plain": [
       "RandomForestClassifier(max_depth=10, n_estimators=20)"
      ]
     },
     "execution_count": 52,
     "metadata": {},
     "output_type": "execute_result"
    },
    {
     "name": "stdout",
     "output_type": "stream",
     "text": [
      "7\n"
     ]
    },
    {
     "data": {
      "text/plain": [
       "RandomForestClassifier(max_depth=10, n_estimators=20)"
      ]
     },
     "execution_count": 52,
     "metadata": {},
     "output_type": "execute_result"
    },
    {
     "data": {
      "text/plain": [
       "RandomForestClassifier(max_depth=10, n_estimators=20)"
      ]
     },
     "execution_count": 52,
     "metadata": {},
     "output_type": "execute_result"
    },
    {
     "data": {
      "text/plain": [
       "RandomForestClassifier(max_depth=10, n_estimators=20)"
      ]
     },
     "execution_count": 52,
     "metadata": {},
     "output_type": "execute_result"
    },
    {
     "data": {
      "text/plain": [
       "RandomForestClassifier(max_depth=10, n_estimators=20)"
      ]
     },
     "execution_count": 52,
     "metadata": {},
     "output_type": "execute_result"
    },
    {
     "data": {
      "text/plain": [
       "RandomForestClassifier(max_depth=10, n_estimators=20)"
      ]
     },
     "execution_count": 52,
     "metadata": {},
     "output_type": "execute_result"
    },
    {
     "name": "stdout",
     "output_type": "stream",
     "text": [
      "8\n"
     ]
    },
    {
     "data": {
      "text/plain": [
       "RandomForestClassifier(max_depth=10, n_estimators=20)"
      ]
     },
     "execution_count": 52,
     "metadata": {},
     "output_type": "execute_result"
    },
    {
     "data": {
      "text/plain": [
       "RandomForestClassifier(max_depth=10, n_estimators=20)"
      ]
     },
     "execution_count": 52,
     "metadata": {},
     "output_type": "execute_result"
    },
    {
     "data": {
      "text/plain": [
       "RandomForestClassifier(max_depth=10, n_estimators=20)"
      ]
     },
     "execution_count": 52,
     "metadata": {},
     "output_type": "execute_result"
    },
    {
     "data": {
      "text/plain": [
       "RandomForestClassifier(max_depth=10, n_estimators=20)"
      ]
     },
     "execution_count": 52,
     "metadata": {},
     "output_type": "execute_result"
    },
    {
     "data": {
      "text/plain": [
       "RandomForestClassifier(max_depth=10, n_estimators=20)"
      ]
     },
     "execution_count": 52,
     "metadata": {},
     "output_type": "execute_result"
    },
    {
     "name": "stdout",
     "output_type": "stream",
     "text": [
      "9\n"
     ]
    },
    {
     "data": {
      "text/plain": [
       "RandomForestClassifier(max_depth=10, n_estimators=20)"
      ]
     },
     "execution_count": 52,
     "metadata": {},
     "output_type": "execute_result"
    },
    {
     "data": {
      "text/plain": [
       "RandomForestClassifier(max_depth=10, n_estimators=20)"
      ]
     },
     "execution_count": 52,
     "metadata": {},
     "output_type": "execute_result"
    },
    {
     "data": {
      "text/plain": [
       "RandomForestClassifier(max_depth=10, n_estimators=20)"
      ]
     },
     "execution_count": 52,
     "metadata": {},
     "output_type": "execute_result"
    },
    {
     "data": {
      "text/plain": [
       "RandomForestClassifier(max_depth=10, n_estimators=20)"
      ]
     },
     "execution_count": 52,
     "metadata": {},
     "output_type": "execute_result"
    },
    {
     "data": {
      "text/plain": [
       "RandomForestClassifier(max_depth=10, n_estimators=20)"
      ]
     },
     "execution_count": 52,
     "metadata": {},
     "output_type": "execute_result"
    },
    {
     "name": "stdout",
     "output_type": "stream",
     "text": [
      "10\n"
     ]
    },
    {
     "data": {
      "text/plain": [
       "RandomForestClassifier(max_depth=10, n_estimators=20)"
      ]
     },
     "execution_count": 52,
     "metadata": {},
     "output_type": "execute_result"
    },
    {
     "data": {
      "text/plain": [
       "RandomForestClassifier(max_depth=10, n_estimators=20)"
      ]
     },
     "execution_count": 52,
     "metadata": {},
     "output_type": "execute_result"
    },
    {
     "data": {
      "text/plain": [
       "RandomForestClassifier(max_depth=10, n_estimators=20)"
      ]
     },
     "execution_count": 52,
     "metadata": {},
     "output_type": "execute_result"
    },
    {
     "data": {
      "text/plain": [
       "RandomForestClassifier(max_depth=10, n_estimators=20)"
      ]
     },
     "execution_count": 52,
     "metadata": {},
     "output_type": "execute_result"
    },
    {
     "data": {
      "text/plain": [
       "RandomForestClassifier(max_depth=10, n_estimators=20)"
      ]
     },
     "execution_count": 52,
     "metadata": {},
     "output_type": "execute_result"
    }
   ],
   "source": [
    "seeds = [1,2,3,4,5,6,7,8,9, 10]\n",
    "repair_levels = [0.2, 0.4, 0.6, 0.8, 1]\n",
    "i = 0\n",
    "\n",
    "disparate_imapacts = []\n",
    "accuracies = []\n",
    "priv_accuracies = []\n",
    "unpriv_accuracies = []\n",
    "fprate_difference = []  \n",
    "\n",
    "\n",
    "for seed in seeds:\n",
    "  print(seed)\n",
    "  #split\n",
    "  train_orig, test_orig = original_data.split([0.8], shuffle = True, seed = seed)\n",
    "  train_orig, val_orig = train_orig.split([0.875], shuffle=True)\n",
    "\n",
    "  #scale\n",
    "  train_orig.features = scaler.fit_transform(train_orig.features)\n",
    "  test_orig.features = scaler.fit_transform(test_orig.features)\n",
    "\n",
    "  disparate_imapacts = []\n",
    "  aucs = []\n",
    "  accuracies = []\n",
    "  priv_accuracies = []\n",
    "  unpriv_accuracies = []\n",
    "  fprate_difference = []  \n",
    "  \n",
    "  for repair_level in repair_levels:\n",
    "    #apply remover with given repair value\n",
    "    DIR = DisparateImpactRemover(repair_level=repair_level, sensitive_attribute = 'SEX')\n",
    "    DIR_train = DIR.fit_transform(train_orig)\n",
    "    DIR_test = DIR.fit_transform(test_orig)\n",
    "\n",
    "    #convert to dataframe\n",
    "    DIR_train_df,_= DIR_train.convert_to_dataframe()\n",
    "    DIR_test_df,_ = DIR_test.convert_to_dataframe()\n",
    "\n",
    "    #fit the best model for this split \n",
    "\n",
    "    x_train = DIR_train_df.drop('PINCP',axis=1)\n",
    "    y_train = DIR_train_df['PINCP']\n",
    "    x_test = DIR_test_df.drop('PINCP', axis = 1)\n",
    "    y_test = DIR_test_df['PINCP']\n",
    "\n",
    "    #build model\n",
    "    clf = RandomForestClassifier(n_estimators=n_estimators, max_depth=max_depth)\n",
    "    clf.fit(x_train, y_train)\n",
    "    \n",
    "    #report metrics\n",
    "    rando_forest_preds = DIR_test_df.copy()\n",
    "    rando_forest_preds['PINCP'] = clf.predict(x_test)\n",
    "\n",
    "    #calculate metrics\n",
    "    accuracy, auc, priv_accuracy, unpriv_accuracy, disparate_impact, fp_rate_difference = metrics(model=clf,x_test = x_test,y_test=y_test)\n",
    "\n",
    "    \n",
    " \n",
    "    accuracies.append(accuracy)\n",
    "    aucs.append(auc)\n",
    "    priv_accuracies.append(priv_accuracy)\n",
    "    unpriv_accuracies.append(unpriv_accuracy)\n",
    "    disparate_imapacts.append(disparate_impact)\n",
    "    fprate_difference.append(fp_rate_difference)\n",
    "\n",
    "  i=i+1\n",
    "\n",
    "\n"
   ]
  },
  {
   "cell_type": "code",
   "execution_count": 58,
   "metadata": {
    "colab": {
     "base_uri": "https://localhost:8080/",
     "height": 1000
    },
    "id": "WYmYGrwWRoeP",
    "outputId": "cbea111d-d1c7-46eb-a175-d396e1bcab06"
   },
   "outputs": [
    {
     "data": {
      "image/png": "[encoded data removed]",
      "text/plain": [
       "<Figure size 432x288 with 1 Axes>"
      ]
     },
     "metadata": {
      "needs_background": "light"
     },
     "output_type": "display_data"
    },
    {
     "data": {
      "image/png": "[encoded data removed]",
      "text/plain": [
       "<Figure size 432x288 with 1 Axes>"
      ]
     },
     "metadata": {
      "needs_background": "light"
     },
     "output_type": "display_data"
    },
    {
     "data": {
      "image/png": "[encoded data removed]",
      "text/plain": [
       "<Figure size 432x288 with 1 Axes>"
      ]
     },
     "metadata": {
      "needs_background": "light"
     },
     "output_type": "display_data"
    },
    {
     "data": {
      "image/png": "[encoded data removed]",
      "text/plain": [
       "<Figure size 432x288 with 1 Axes>"
      ]
     },
     "metadata": {
      "needs_background": "light"
     },
     "output_type": "display_data"
    },
    {
     "data": {
      "image/png": "[encoded data removed]",
      "text/plain": [
       "<Figure size 432x288 with 1 Axes>"
      ]
     },
     "metadata": {
      "needs_background": "light"
     },
     "output_type": "display_data"
    },
    {
     "data": {
      "image/png": "[encoded data removed]",
      "text/plain": [
       "<Figure size 432x288 with 1 Axes>"
      ]
     },
     "metadata": {
      "needs_background": "light"
     },
     "output_type": "display_data"
    }
   ],
   "source": [
    "# plot each metric against the repair level\n",
    "# you can use the plot_metric_repair above)\n",
    "  #plots\n",
    "plot_metric_repair(repair_levels=repair_levels,metric_values=accuracies,metric_name=\"Overall Accuracy\")\n",
    "plot_metric_repair(repair_levels = repair_levels, metric_values = aucs, metric_name = \"AUC\")\n",
    "plot_metric_repair(repair_levels=repair_levels,metric_values=priv_accuracies,metric_name=\"Priviledged Accuracy\")\n",
    "plot_metric_repair(repair_levels=repair_levels,metric_values=unpriv_accuracies,metric_name=\"Unpriviledged Accuracy\")\n",
    "plot_metric_repair(repair_levels=repair_levels,metric_values=disparate_imapacts,metric_name=\"Disparate Impacts\")\n",
    "plot_metric_repair(repair_levels=repair_levels,metric_values=fprate_difference,metric_name=\"False Positive Rate Difference\")\n"
   ]
  },
  {
   "cell_type": "markdown",
   "metadata": {
    "id": "APeTeITlhm4B"
   },
   "source": [
    "## Train a Prejudice Remover model at three eta values and calculate metrics\n"
   ]
  },
  {
   "cell_type": "code",
   "execution_count": 67,
   "metadata": {
    "colab": {
     "base_uri": "https://localhost:8080/"
    },
    "id": "NiejOOrrfEiG",
    "outputId": "5f7a574d-1cc5-45cc-ddc4-ad945fbf117d"
   },
   "outputs": [
    {
     "name": "stdout",
     "output_type": "stream",
     "text": [
      "eta:  0.01\n"
     ]
    },
    {
     "data": {
      "text/plain": [
       "<aif360.algorithms.inprocessing.prejudice_remover.PrejudiceRemover at 0x7f6ffe76cd90>"
      ]
     },
     "execution_count": 67,
     "metadata": {},
     "output_type": "execute_result"
    },
    {
     "name": "stdout",
     "output_type": "stream",
     "text": [
      "Accuracy:  0.7521666666666667\n",
      "Disperate Impact:  0.6092980949012078\n",
      "eta:  0.1\n"
     ]
    },
    {
     "data": {
      "text/plain": [
       "<aif360.algorithms.inprocessing.prejudice_remover.PrejudiceRemover at 0x7f7000d2ecd0>"
      ]
     },
     "execution_count": 67,
     "metadata": {},
     "output_type": "execute_result"
    },
    {
     "name": "stdout",
     "output_type": "stream",
     "text": [
      "Accuracy:  0.752\n",
      "Disperate Impact:  0.6096851966133433\n",
      "eta:  1\n"
     ]
    },
    {
     "data": {
      "text/plain": [
       "<aif360.algorithms.inprocessing.prejudice_remover.PrejudiceRemover at 0x7f70000819d0>"
      ]
     },
     "execution_count": 67,
     "metadata": {},
     "output_type": "execute_result"
    },
    {
     "name": "stdout",
     "output_type": "stream",
     "text": [
      "Accuracy:  0.752\n",
      "Disperate Impact:  0.6096851966133433\n"
     ]
    }
   ],
   "source": [
    "etas = [0.01, 0.1, 1] # eta is the weight we apply to the fairness regularization parameter\n",
    "\n",
    "# train a Prejudice Remover model at these eta values and calculate metrics\n",
    "# (you may wish to use a for loop)\n",
    "\n",
    "# train a Prejudice Remover model at these eta values and calculate metrics\n",
    "train_data2, test_data2 = original_data.split([0.8], shuffle=True, seed=seed)\n",
    "# (you may wish to use a for loop)\n",
    "disparate_impacts = []\n",
    "aucs = []\n",
    "accuracies = []\n",
    "priv_accuracies = []\n",
    "unpriv_accuracies = []\n",
    "fprate_difference = []\n",
    "for e in etas:\n",
    "  print(\"eta: \",e)\n",
    "  currentPrejudiceRemover = PrejudiceRemover(eta=e)\n",
    "  currentPrejudiceRemover.fit(train_data2)\n",
    "  predictions = currentPrejudiceRemover.predict(test_data2)\n",
    "  metrics = ClassificationMetric(\n",
    "      test_data2,\n",
    "      predictions,\n",
    "      unprivileged_groups=unprivileged_groups,\n",
    "      privileged_groups=privileged_groups\n",
    "    )\n",
    "  accuracy = metrics.accuracy()\n",
    "  DIR  = metrics.disparate_impact()\n",
    "  accuracies.append(accuracy)\n",
    "  disparate_impacts.append(DIR)\n",
    "  print(\"Accuracy: \",accuracy)\n",
    "  print(\"Disperate Impact: \",DIR)"
   ]
  },
  {
   "cell_type": "code",
   "execution_count": 68,
   "metadata": {
    "colab": {
     "base_uri": "https://localhost:8080/",
     "height": 547
    },
    "id": "FZ16AQ9frCRt",
    "outputId": "37ee520f-33a3-4f55-afa6-8286d76cdc4e"
   },
   "outputs": [
    {
     "data": {
      "image/png": "[encoded data removed]",
      "text/plain": [
       "<Figure size 432x288 with 1 Axes>"
      ]
     },
     "metadata": {
      "needs_background": "light"
     },
     "output_type": "display_data"
    },
    {
     "data": {
      "image/png": "[encoded data removed]",
      "text/plain": [
       "<Figure size 432x288 with 1 Axes>"
      ]
     },
     "metadata": {
      "needs_background": "light"
     },
     "output_type": "display_data"
    }
   ],
   "source": [
    "# plot one or more of the metrics varies at the different values of eta\n",
    "plot_metric_repair(etas, accuracies, \"Accuracy\")\n",
    "plot_metric_repair(etas, disparate_impacts, \"Disparate Impact\")"
   ]
  },
  {
   "cell_type": "code",
   "execution_count": null,
   "metadata": {
    "id": "3hv3iu2LAPaz"
   },
   "outputs": [],
   "source": []
  }
 ],
 "metadata": {
  "colab": {
   "collapsed_sections": [],
   "name": "Copy of HW1_template_DS_UA_202",
   "provenance": []
  },
  "kernelspec": {
   "display_name": "Python 3 (ipykernel)",
   "language": "python",
   "name": "python3"
  },
  "language_info": {
   "codemirror_mode": {
    "name": "ipython",
    "version": 3
   },
   "file_extension": ".py",
   "mimetype": "text/x-python",
   "name": "python",
   "nbconvert_exporter": "python",
   "pygments_lexer": "ipython3",
   "version": "3.8.3"
  }
 },
 "nbformat": 4,
 "nbformat_minor": 4
}
